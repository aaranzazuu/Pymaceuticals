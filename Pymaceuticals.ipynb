{
 "cells": [
  {
   "cell_type": "markdown",
   "metadata": {},
   "source": [
    "# Observations and Insights\n",
    "\n",
    "Observation 1: Capomulin and Ramicane were the drug regimens used during more time points.\n",
    "\n",
    "Observation 2: Mousee S185's tumor volume reduced over time when under the Capomulin drug regimen.\n",
    "\n",
    "Observation 3: There is a strong correlation betweeen the mouse weight and the average tumor volume when the mouse is under the Capomulin drug regimen."
   ]
  },
  {
   "cell_type": "code",
   "execution_count": 313,
   "metadata": {},
   "outputs": [
    {
     "data": {
      "text/html": [
       "<div>\n",
       "<style scoped>\n",
       "    .dataframe tbody tr th:only-of-type {\n",
       "        vertical-align: middle;\n",
       "    }\n",
       "\n",
       "    .dataframe tbody tr th {\n",
       "        vertical-align: top;\n",
       "    }\n",
       "\n",
       "    .dataframe thead th {\n",
       "        text-align: right;\n",
       "    }\n",
       "</style>\n",
       "<table border=\"1\" class=\"dataframe\">\n",
       "  <thead>\n",
       "    <tr style=\"text-align: right;\">\n",
       "      <th></th>\n",
       "      <th>Mouse ID</th>\n",
       "      <th>Drug Regimen</th>\n",
       "      <th>Sex</th>\n",
       "      <th>Age_months</th>\n",
       "      <th>Weight (g)</th>\n",
       "      <th>Timepoint</th>\n",
       "      <th>Tumor Volume (mm3)</th>\n",
       "      <th>Metastatic Sites</th>\n",
       "    </tr>\n",
       "  </thead>\n",
       "  <tbody>\n",
       "    <tr>\n",
       "      <th>0</th>\n",
       "      <td>k403</td>\n",
       "      <td>Ramicane</td>\n",
       "      <td>Male</td>\n",
       "      <td>21</td>\n",
       "      <td>16</td>\n",
       "      <td>0</td>\n",
       "      <td>45.000000</td>\n",
       "      <td>0</td>\n",
       "    </tr>\n",
       "    <tr>\n",
       "      <th>1</th>\n",
       "      <td>k403</td>\n",
       "      <td>Ramicane</td>\n",
       "      <td>Male</td>\n",
       "      <td>21</td>\n",
       "      <td>16</td>\n",
       "      <td>5</td>\n",
       "      <td>38.825898</td>\n",
       "      <td>0</td>\n",
       "    </tr>\n",
       "    <tr>\n",
       "      <th>2</th>\n",
       "      <td>k403</td>\n",
       "      <td>Ramicane</td>\n",
       "      <td>Male</td>\n",
       "      <td>21</td>\n",
       "      <td>16</td>\n",
       "      <td>10</td>\n",
       "      <td>35.014271</td>\n",
       "      <td>1</td>\n",
       "    </tr>\n",
       "    <tr>\n",
       "      <th>3</th>\n",
       "      <td>k403</td>\n",
       "      <td>Ramicane</td>\n",
       "      <td>Male</td>\n",
       "      <td>21</td>\n",
       "      <td>16</td>\n",
       "      <td>15</td>\n",
       "      <td>34.223992</td>\n",
       "      <td>1</td>\n",
       "    </tr>\n",
       "    <tr>\n",
       "      <th>4</th>\n",
       "      <td>k403</td>\n",
       "      <td>Ramicane</td>\n",
       "      <td>Male</td>\n",
       "      <td>21</td>\n",
       "      <td>16</td>\n",
       "      <td>20</td>\n",
       "      <td>32.997729</td>\n",
       "      <td>1</td>\n",
       "    </tr>\n",
       "    <tr>\n",
       "      <th>...</th>\n",
       "      <td>...</td>\n",
       "      <td>...</td>\n",
       "      <td>...</td>\n",
       "      <td>...</td>\n",
       "      <td>...</td>\n",
       "      <td>...</td>\n",
       "      <td>...</td>\n",
       "      <td>...</td>\n",
       "    </tr>\n",
       "    <tr>\n",
       "      <th>1888</th>\n",
       "      <td>z969</td>\n",
       "      <td>Naftisol</td>\n",
       "      <td>Male</td>\n",
       "      <td>9</td>\n",
       "      <td>30</td>\n",
       "      <td>25</td>\n",
       "      <td>63.145652</td>\n",
       "      <td>2</td>\n",
       "    </tr>\n",
       "    <tr>\n",
       "      <th>1889</th>\n",
       "      <td>z969</td>\n",
       "      <td>Naftisol</td>\n",
       "      <td>Male</td>\n",
       "      <td>9</td>\n",
       "      <td>30</td>\n",
       "      <td>30</td>\n",
       "      <td>65.841013</td>\n",
       "      <td>3</td>\n",
       "    </tr>\n",
       "    <tr>\n",
       "      <th>1890</th>\n",
       "      <td>z969</td>\n",
       "      <td>Naftisol</td>\n",
       "      <td>Male</td>\n",
       "      <td>9</td>\n",
       "      <td>30</td>\n",
       "      <td>35</td>\n",
       "      <td>69.176246</td>\n",
       "      <td>4</td>\n",
       "    </tr>\n",
       "    <tr>\n",
       "      <th>1891</th>\n",
       "      <td>z969</td>\n",
       "      <td>Naftisol</td>\n",
       "      <td>Male</td>\n",
       "      <td>9</td>\n",
       "      <td>30</td>\n",
       "      <td>40</td>\n",
       "      <td>70.314904</td>\n",
       "      <td>4</td>\n",
       "    </tr>\n",
       "    <tr>\n",
       "      <th>1892</th>\n",
       "      <td>z969</td>\n",
       "      <td>Naftisol</td>\n",
       "      <td>Male</td>\n",
       "      <td>9</td>\n",
       "      <td>30</td>\n",
       "      <td>45</td>\n",
       "      <td>73.867845</td>\n",
       "      <td>4</td>\n",
       "    </tr>\n",
       "  </tbody>\n",
       "</table>\n",
       "<p>1893 rows × 8 columns</p>\n",
       "</div>"
      ],
      "text/plain": [
       "     Mouse ID Drug Regimen   Sex  Age_months  Weight (g)  Timepoint  \\\n",
       "0        k403     Ramicane  Male          21          16          0   \n",
       "1        k403     Ramicane  Male          21          16          5   \n",
       "2        k403     Ramicane  Male          21          16         10   \n",
       "3        k403     Ramicane  Male          21          16         15   \n",
       "4        k403     Ramicane  Male          21          16         20   \n",
       "...       ...          ...   ...         ...         ...        ...   \n",
       "1888     z969     Naftisol  Male           9          30         25   \n",
       "1889     z969     Naftisol  Male           9          30         30   \n",
       "1890     z969     Naftisol  Male           9          30         35   \n",
       "1891     z969     Naftisol  Male           9          30         40   \n",
       "1892     z969     Naftisol  Male           9          30         45   \n",
       "\n",
       "      Tumor Volume (mm3)  Metastatic Sites  \n",
       "0              45.000000                 0  \n",
       "1              38.825898                 0  \n",
       "2              35.014271                 1  \n",
       "3              34.223992                 1  \n",
       "4              32.997729                 1  \n",
       "...                  ...               ...  \n",
       "1888           63.145652                 2  \n",
       "1889           65.841013                 3  \n",
       "1890           69.176246                 4  \n",
       "1891           70.314904                 4  \n",
       "1892           73.867845                 4  \n",
       "\n",
       "[1893 rows x 8 columns]"
      ]
     },
     "execution_count": 313,
     "metadata": {},
     "output_type": "execute_result"
    }
   ],
   "source": [
    " # Dependencies and Setup\n",
    "import matplotlib.pyplot as plt\n",
    "import pandas as pd\n",
    "import scipy.stats as st\n",
    "import numpy as np\n",
    "\n",
    "# Study data files\n",
    "mouse_metadata = \"Resources/05-Matplotlib_HW_Instructions_Pymaceuticals_data_Mouse_metadata.csv\"\n",
    "study_results = \"Resources/05-Matplotlib_HW_Instructions_Pymaceuticals_data_Study_results.csv\"\n",
    "\n",
    "# Read the mouse data and the study results\n",
    "mouse_metadata = pd.read_csv(mouse_metadata)\n",
    "study_results = pd.read_csv(study_results)\n",
    "\n",
    "# Combine the data into a single dataset\n",
    "combined_data = pd.merge(mouse_metadata, study_results, on = \"Mouse ID\", how = \"outer\")\n",
    "combined_data"
   ]
  },
  {
   "cell_type": "code",
   "execution_count": 198,
   "metadata": {},
   "outputs": [
    {
     "data": {
      "text/html": [
       "<div>\n",
       "<style scoped>\n",
       "    .dataframe tbody tr th:only-of-type {\n",
       "        vertical-align: middle;\n",
       "    }\n",
       "\n",
       "    .dataframe tbody tr th {\n",
       "        vertical-align: top;\n",
       "    }\n",
       "\n",
       "    .dataframe thead th {\n",
       "        text-align: right;\n",
       "    }\n",
       "</style>\n",
       "<table border=\"1\" class=\"dataframe\">\n",
       "  <thead>\n",
       "    <tr style=\"text-align: right;\">\n",
       "      <th></th>\n",
       "      <th>mean</th>\n",
       "      <th>median</th>\n",
       "      <th>var</th>\n",
       "      <th>std</th>\n",
       "      <th>sem</th>\n",
       "    </tr>\n",
       "    <tr>\n",
       "      <th>Drug Regimen</th>\n",
       "      <th></th>\n",
       "      <th></th>\n",
       "      <th></th>\n",
       "      <th></th>\n",
       "      <th></th>\n",
       "    </tr>\n",
       "  </thead>\n",
       "  <tbody>\n",
       "    <tr>\n",
       "      <th>Capomulin</th>\n",
       "      <td>40.675741</td>\n",
       "      <td>41.557809</td>\n",
       "      <td>24.947764</td>\n",
       "      <td>4.994774</td>\n",
       "      <td>0.329346</td>\n",
       "    </tr>\n",
       "    <tr>\n",
       "      <th>Ceftamin</th>\n",
       "      <td>52.591172</td>\n",
       "      <td>51.776157</td>\n",
       "      <td>39.290177</td>\n",
       "      <td>6.268188</td>\n",
       "      <td>0.469821</td>\n",
       "    </tr>\n",
       "    <tr>\n",
       "      <th>Infubinol</th>\n",
       "      <td>52.884795</td>\n",
       "      <td>51.820584</td>\n",
       "      <td>43.128684</td>\n",
       "      <td>6.567243</td>\n",
       "      <td>0.492236</td>\n",
       "    </tr>\n",
       "    <tr>\n",
       "      <th>Ketapril</th>\n",
       "      <td>55.235638</td>\n",
       "      <td>53.698743</td>\n",
       "      <td>68.553577</td>\n",
       "      <td>8.279709</td>\n",
       "      <td>0.603860</td>\n",
       "    </tr>\n",
       "    <tr>\n",
       "      <th>Naftisol</th>\n",
       "      <td>54.331565</td>\n",
       "      <td>52.509285</td>\n",
       "      <td>66.173479</td>\n",
       "      <td>8.134708</td>\n",
       "      <td>0.596466</td>\n",
       "    </tr>\n",
       "    <tr>\n",
       "      <th>Placebo</th>\n",
       "      <td>54.033581</td>\n",
       "      <td>52.288934</td>\n",
       "      <td>61.168083</td>\n",
       "      <td>7.821003</td>\n",
       "      <td>0.581331</td>\n",
       "    </tr>\n",
       "    <tr>\n",
       "      <th>Propriva</th>\n",
       "      <td>52.322552</td>\n",
       "      <td>50.854632</td>\n",
       "      <td>42.351070</td>\n",
       "      <td>6.507770</td>\n",
       "      <td>0.512884</td>\n",
       "    </tr>\n",
       "    <tr>\n",
       "      <th>Ramicane</th>\n",
       "      <td>40.216745</td>\n",
       "      <td>40.673236</td>\n",
       "      <td>23.486704</td>\n",
       "      <td>4.846308</td>\n",
       "      <td>0.320955</td>\n",
       "    </tr>\n",
       "    <tr>\n",
       "      <th>Stelasyn</th>\n",
       "      <td>54.233149</td>\n",
       "      <td>52.431737</td>\n",
       "      <td>59.450562</td>\n",
       "      <td>7.710419</td>\n",
       "      <td>0.573111</td>\n",
       "    </tr>\n",
       "    <tr>\n",
       "      <th>Zoniferol</th>\n",
       "      <td>53.236507</td>\n",
       "      <td>51.818479</td>\n",
       "      <td>48.533355</td>\n",
       "      <td>6.966589</td>\n",
       "      <td>0.516398</td>\n",
       "    </tr>\n",
       "  </tbody>\n",
       "</table>\n",
       "</div>"
      ],
      "text/plain": [
       "                   mean     median        var       std       sem\n",
       "Drug Regimen                                                     \n",
       "Capomulin     40.675741  41.557809  24.947764  4.994774  0.329346\n",
       "Ceftamin      52.591172  51.776157  39.290177  6.268188  0.469821\n",
       "Infubinol     52.884795  51.820584  43.128684  6.567243  0.492236\n",
       "Ketapril      55.235638  53.698743  68.553577  8.279709  0.603860\n",
       "Naftisol      54.331565  52.509285  66.173479  8.134708  0.596466\n",
       "Placebo       54.033581  52.288934  61.168083  7.821003  0.581331\n",
       "Propriva      52.322552  50.854632  42.351070  6.507770  0.512884\n",
       "Ramicane      40.216745  40.673236  23.486704  4.846308  0.320955\n",
       "Stelasyn      54.233149  52.431737  59.450562  7.710419  0.573111\n",
       "Zoniferol     53.236507  51.818479  48.533355  6.966589  0.516398"
      ]
     },
     "execution_count": 198,
     "metadata": {},
     "output_type": "execute_result"
    }
   ],
   "source": [
    "#Summary Statistics\n",
    "# Generate a summary statistics table of mean, median, variance, standard deviation, and SEM of the tumor volume for each regimen \n",
    "#mean grouped by tumor volume\n",
    "grouped_regimen = combined_data.groupby([\"Drug Regimen\"])[\"Tumor Volume (mm3)\"].agg([\"mean\", \"median\", \"var\", \"std\", \"sem\"])\n",
    "grouped_regimen"
   ]
  },
  {
   "cell_type": "code",
   "execution_count": 199,
   "metadata": {},
   "outputs": [
    {
     "data": {
      "text/plain": [
       "Text(0, 0.5, 'Times Points')"
      ]
     },
     "execution_count": 199,
     "metadata": {},
     "output_type": "execute_result"
    },
    {
     "data": {
      "image/png": "[encoded data removed]",
      "text/plain": [
       "<Figure size 720x360 with 1 Axes>"
      ]
     },
     "metadata": {
      "needs_background": "light"
     },
     "output_type": "display_data"
    }
   ],
   "source": [
    "#Generate a bar plot using Pandas's DataFrame.plot() that shows the number of data points for each treatment regimen\n",
    "#Group by Drug Regimen and count\n",
    "grouped_regimen_datapoints = combined_data.groupby([\"Drug Regimen\"])[\"Tumor Volume (mm3)\"].count()\n",
    "\n",
    "#Convert to Data Frame\n",
    "Tumor_Volume_Count_df = pd.DataFrame(grouped_regimen_datapoints)\n",
    "\n",
    "#Generate bar plot\n",
    "Tumor_Volume_Count_df.plot(kind=\"bar\", figsize = (10,5), width = 0.6)\n",
    "\n",
    "#Add title and y labels\n",
    "plt.title(\"Use per Drug Regimen\")\n",
    "plt.ylabel(\"Times Points\")"
   ]
  },
  {
   "cell_type": "code",
   "execution_count": 200,
   "metadata": {},
   "outputs": [
    {
     "data": {
      "text/plain": [
       "([<matplotlib.axis.XTick at 0x1a29796e10>,\n",
       "  <matplotlib.axis.XTick at 0x1a297964d0>,\n",
       "  <matplotlib.axis.XTick at 0x1a29789b10>,\n",
       "  <matplotlib.axis.XTick at 0x1a2972fed0>,\n",
       "  <matplotlib.axis.XTick at 0x1a29738490>,\n",
       "  <matplotlib.axis.XTick at 0x1a29738a10>,\n",
       "  <matplotlib.axis.XTick at 0x1a29738b10>,\n",
       "  <matplotlib.axis.XTick at 0x1a2973f590>,\n",
       "  <matplotlib.axis.XTick at 0x1a2973fb10>,\n",
       "  <matplotlib.axis.XTick at 0x1a29738610>],\n",
       " <a list of 10 Text xticklabel objects>)"
      ]
     },
     "execution_count": 200,
     "metadata": {},
     "output_type": "execute_result"
    },
    {
     "data": {
      "image/png": "[encoded data removed]",
      "text/plain": [
       "<Figure size 720x360 with 1 Axes>"
      ]
     },
     "metadata": {
      "needs_background": "light"
     },
     "output_type": "display_data"
    }
   ],
   "source": [
    "#Generate a bar plot using Matplotlib's pyplot that shows the number of data points for each treatment regimen.\n",
    "#Create a list of drug regimens in alphabetical order\n",
    "drug_regimen = combined_data[\"Drug Regimen\"].unique()\n",
    "drug_regimen = list(drug_regimen)\n",
    "drug_regimen.sort()\n",
    "\n",
    "#Create x and y axis\n",
    "x_axis = np.arange(0,len(drug_regimen), 1)\n",
    "y_axis = Tumor_Volume_Count_df[\"Tumor Volume (mm3)\"]\n",
    "\n",
    "#Generate bar plot\n",
    "plt.figure(figsize = (10,5))\n",
    "plt.bar(x_axis, y_axis, width = 0.6, label = \"tumor volume (mm3)\")\n",
    "\n",
    "#Add title and labels\n",
    "plt.title(\"Use per Drug Regimens\")\n",
    "plt.xlabel(\"Drug Regimen\")\n",
    "plt.ylabel(\"Time Points\")\n",
    "plt.legend(loc=\"upper center\")\n",
    "\n",
    "\n",
    "#Change x axis to the name of the drugs\n",
    "tick_loactions = list(x_axis)\n",
    "plt.xticks(tick_loactions, drug_regimen, rotation=\"vertical\")"
   ]
  },
  {
   "cell_type": "code",
   "execution_count": 201,
   "metadata": {},
   "outputs": [
    {
     "data": {
      "text/plain": [
       "Text(0.5, 1.0, 'Distribution of Mice by Gender')"
      ]
     },
     "execution_count": 201,
     "metadata": {},
     "output_type": "execute_result"
    },
    {
     "data": {
      "image/png": "[encoded data removed]",
      "text/plain": [
       "<Figure size 432x288 with 1 Axes>"
      ]
     },
     "metadata": {},
     "output_type": "display_data"
    }
   ],
   "source": [
    "#Generate a pie plot using Pandas's DataFrame.plot() that shows the distribution of female or male mice in the study.\n",
    "#Count the number of mice we use grouped by sex\n",
    "grouped_sex_mouseid = mouse_metadata.groupby([\"Sex\"])[\"Mouse ID\"].count()\n",
    "\n",
    "#Create Data Frame\n",
    "Sex_MouseID_df = pd.DataFrame(grouped_sex_mouseid)\n",
    "\n",
    "#Generate pie chart and add title\n",
    "Sex_MouseID_df.plot(kind=\"pie\", subplots=True, autopct=\"%1.1f%%\")\n",
    "plt.title(\"Distribution of Mice by Gender\")"
   ]
  },
  {
   "cell_type": "code",
   "execution_count": 202,
   "metadata": {},
   "outputs": [
    {
     "data": {
      "text/plain": [
       "<matplotlib.legend.Legend at 0x1a29c04350>"
      ]
     },
     "execution_count": 202,
     "metadata": {},
     "output_type": "execute_result"
    },
    {
     "data": {
      "image/png": "[encoded data removed]",
      "text/plain": [
       "<Figure size 432x288 with 1 Axes>"
      ]
     },
     "metadata": {},
     "output_type": "display_data"
    }
   ],
   "source": [
    "#Generate a pie plot Matplotlib's pyplot that shows the distribution of female or male mice in the study.\n",
    "#Create labels\n",
    "sex = [\"Female\", \"Male\"]\n",
    "\n",
    "#Genereate pie chart\n",
    "plt.pie(Sex_MouseID_df[\"Mouse ID\"], labels=sex, autopct=\"%1.1f%%\")\n",
    "\n",
    "#Add title, label and legend\n",
    "plt.title(\"Distribution of Mice by Gender\")\n",
    "plt.ylabel(\"Mouse ID\")\n",
    "plt.legend(loc=\"best\")"
   ]
  },
  {
   "cell_type": "code",
   "execution_count": 203,
   "metadata": {},
   "outputs": [
    {
     "data": {
      "text/html": [
       "<div>\n",
       "<style scoped>\n",
       "    .dataframe tbody tr th:only-of-type {\n",
       "        vertical-align: middle;\n",
       "    }\n",
       "\n",
       "    .dataframe tbody tr th {\n",
       "        vertical-align: top;\n",
       "    }\n",
       "\n",
       "    .dataframe thead th {\n",
       "        text-align: right;\n",
       "    }\n",
       "</style>\n",
       "<table border=\"1\" class=\"dataframe\">\n",
       "  <thead>\n",
       "    <tr style=\"text-align: right;\">\n",
       "      <th></th>\n",
       "      <th>Timepoint</th>\n",
       "    </tr>\n",
       "    <tr>\n",
       "      <th>Mouse ID</th>\n",
       "      <th></th>\n",
       "    </tr>\n",
       "  </thead>\n",
       "  <tbody>\n",
       "    <tr>\n",
       "      <th>a203</th>\n",
       "      <td>45</td>\n",
       "    </tr>\n",
       "    <tr>\n",
       "      <th>a251</th>\n",
       "      <td>45</td>\n",
       "    </tr>\n",
       "    <tr>\n",
       "      <th>a262</th>\n",
       "      <td>45</td>\n",
       "    </tr>\n",
       "    <tr>\n",
       "      <th>a275</th>\n",
       "      <td>45</td>\n",
       "    </tr>\n",
       "    <tr>\n",
       "      <th>a366</th>\n",
       "      <td>30</td>\n",
       "    </tr>\n",
       "    <tr>\n",
       "      <th>...</th>\n",
       "      <td>...</td>\n",
       "    </tr>\n",
       "    <tr>\n",
       "      <th>z435</th>\n",
       "      <td>10</td>\n",
       "    </tr>\n",
       "    <tr>\n",
       "      <th>z578</th>\n",
       "      <td>45</td>\n",
       "    </tr>\n",
       "    <tr>\n",
       "      <th>z581</th>\n",
       "      <td>45</td>\n",
       "    </tr>\n",
       "    <tr>\n",
       "      <th>z795</th>\n",
       "      <td>45</td>\n",
       "    </tr>\n",
       "    <tr>\n",
       "      <th>z969</th>\n",
       "      <td>45</td>\n",
       "    </tr>\n",
       "  </tbody>\n",
       "</table>\n",
       "<p>249 rows × 1 columns</p>\n",
       "</div>"
      ],
      "text/plain": [
       "          Timepoint\n",
       "Mouse ID           \n",
       "a203             45\n",
       "a251             45\n",
       "a262             45\n",
       "a275             45\n",
       "a366             30\n",
       "...             ...\n",
       "z435             10\n",
       "z578             45\n",
       "z581             45\n",
       "z795             45\n",
       "z969             45\n",
       "\n",
       "[249 rows x 1 columns]"
      ]
     },
     "execution_count": 203,
     "metadata": {},
     "output_type": "execute_result"
    }
   ],
   "source": [
    "#Group by mouse to get the maximum timepoint\n",
    "grouped_mouse = study_results.groupby([\"Mouse ID\"])[\"Timepoint\"].max()\n",
    "grouped_mouse_df = pd.DataFrame(grouped_mouse)\n",
    "grouped_mouse_df"
   ]
  },
  {
   "cell_type": "code",
   "execution_count": 204,
   "metadata": {},
   "outputs": [
    {
     "data": {
      "text/html": [
       "<div>\n",
       "<style scoped>\n",
       "    .dataframe tbody tr th:only-of-type {\n",
       "        vertical-align: middle;\n",
       "    }\n",
       "\n",
       "    .dataframe tbody tr th {\n",
       "        vertical-align: top;\n",
       "    }\n",
       "\n",
       "    .dataframe thead th {\n",
       "        text-align: right;\n",
       "    }\n",
       "</style>\n",
       "<table border=\"1\" class=\"dataframe\">\n",
       "  <thead>\n",
       "    <tr style=\"text-align: right;\">\n",
       "      <th></th>\n",
       "      <th>Mouse ID</th>\n",
       "      <th>Drug Regimen</th>\n",
       "      <th>Sex</th>\n",
       "      <th>Age_months</th>\n",
       "      <th>Weight (g)</th>\n",
       "      <th>Timepoint</th>\n",
       "      <th>Tumor Volume (mm3)</th>\n",
       "      <th>Metastatic Sites</th>\n",
       "    </tr>\n",
       "  </thead>\n",
       "  <tbody>\n",
       "    <tr>\n",
       "      <th>1</th>\n",
       "      <td>s185</td>\n",
       "      <td>Capomulin</td>\n",
       "      <td>Female</td>\n",
       "      <td>3</td>\n",
       "      <td>17</td>\n",
       "      <td>45</td>\n",
       "      <td>23.343598</td>\n",
       "      <td>1</td>\n",
       "    </tr>\n",
       "    <tr>\n",
       "      <th>2</th>\n",
       "      <td>x401</td>\n",
       "      <td>Capomulin</td>\n",
       "      <td>Female</td>\n",
       "      <td>16</td>\n",
       "      <td>15</td>\n",
       "      <td>45</td>\n",
       "      <td>28.484033</td>\n",
       "      <td>0</td>\n",
       "    </tr>\n",
       "    <tr>\n",
       "      <th>3</th>\n",
       "      <td>m601</td>\n",
       "      <td>Capomulin</td>\n",
       "      <td>Male</td>\n",
       "      <td>22</td>\n",
       "      <td>17</td>\n",
       "      <td>45</td>\n",
       "      <td>28.430964</td>\n",
       "      <td>1</td>\n",
       "    </tr>\n",
       "    <tr>\n",
       "      <th>6</th>\n",
       "      <td>f966</td>\n",
       "      <td>Capomulin</td>\n",
       "      <td>Male</td>\n",
       "      <td>16</td>\n",
       "      <td>17</td>\n",
       "      <td>20</td>\n",
       "      <td>30.485985</td>\n",
       "      <td>0</td>\n",
       "    </tr>\n",
       "    <tr>\n",
       "      <th>10</th>\n",
       "      <td>u364</td>\n",
       "      <td>Capomulin</td>\n",
       "      <td>Male</td>\n",
       "      <td>18</td>\n",
       "      <td>17</td>\n",
       "      <td>45</td>\n",
       "      <td>31.023923</td>\n",
       "      <td>3</td>\n",
       "    </tr>\n",
       "  </tbody>\n",
       "</table>\n",
       "</div>"
      ],
      "text/plain": [
       "   Mouse ID Drug Regimen     Sex  Age_months  Weight (g)  Timepoint  \\\n",
       "1      s185    Capomulin  Female           3          17         45   \n",
       "2      x401    Capomulin  Female          16          15         45   \n",
       "3      m601    Capomulin    Male          22          17         45   \n",
       "6      f966    Capomulin    Male          16          17         20   \n",
       "10     u364    Capomulin    Male          18          17         45   \n",
       "\n",
       "    Tumor Volume (mm3)  Metastatic Sites  \n",
       "1            23.343598                 1  \n",
       "2            28.484033                 0  \n",
       "3            28.430964                 1  \n",
       "6            30.485985                 0  \n",
       "10           31.023923                 3  "
      ]
     },
     "execution_count": 204,
     "metadata": {},
     "output_type": "execute_result"
    }
   ],
   "source": [
    "#Look for the final tumor volume (ftv) for each mice in the top drug regimens\n",
    "ftv_capomulin_data = grouped_combined_mouse_df.loc[grouped_combined_mouse_df[\"Drug Regimen\"] == \"Capomulin\"]\n",
    "ftv_ramicane_data = grouped_combined_mouse_df.loc[grouped_combined_mouse_df[\"Drug Regimen\"] == \"Ramicane\"]\n",
    "ftv_infubinol_data = grouped_combined_mouse_df.loc[grouped_combined_mouse_df[\"Drug Regimen\"] == \"Infubinol\"]\n",
    "ftv_ceftamin_data = grouped_combined_mouse_df.loc[grouped_combined_mouse_df[\"Drug Regimen\"] == \"Ceftamin\"]\n",
    "\n",
    "ftv_top_drugs = [ftv_capomulin_data, ftv_ramicane_data, ftv_infubinol_data, ftv_ceftamin_data]\n",
    "ftv_top_drugs_df = pd.concat(ftv_top_drugs)\n",
    "ftv_top_drugs_df.head()"
   ]
  },
  {
   "cell_type": "code",
   "execution_count": 205,
   "metadata": {},
   "outputs": [
    {
     "name": "stdout",
     "output_type": "stream",
     "text": [
      "No lower outliers in the final tumor value of Capomulin\n",
      "No upper outliers in the final tumor value of Capomulin\n"
     ]
    }
   ],
   "source": [
    "#Capomulin\n",
    "\n",
    "#Capomulin Quartiles\n",
    "capomulin = ftv_capomulin_data[\"Tumor Volume (mm3)\"]\n",
    "quartiles_ca = capomulin.quantile([.25, .5, .75])\n",
    "lowerq_ca = quartiles_ca[0.25]\n",
    "upperq_ca = quartiles_ca[0.75]\n",
    "\n",
    "#Capomulin IQR\n",
    "iqr_ca = upperq_ca -lowerq_ca\n",
    "\n",
    "#Establish lower and upper bounds\n",
    "lower_bound_ca = lowerq_ca - (1.5*iqr)\n",
    "upper_bound_ca = upperq_ca + (1.5*iqr)\n",
    "\n",
    "#Find Outliers\n",
    "lower_outliers_capomulin = capomulin.loc[capomulin < lower_bound_ca]\n",
    "upper_outliers_capomulin = capomulin.loc[capomulin > upper_bound_ca]\n",
    "\n",
    "if lower_outliers_capomulin.empty:\n",
    "    print(\"No lower outliers in the final tumor value of Capomulin\")\n",
    "else: \n",
    "    print(f\"The lower outliers for Capomulin are {list(lower_outliers_capomulin)}\")\n",
    "if upper_outliers_capomulin.empty:\n",
    "    print(\"No upper outliers in the final tumor value of Capomulin\")\n",
    "else: \n",
    "    print(f\"The upper outliers for Capomulin are {list(upper_outliers_capomulin)}\")"
   ]
  },
  {
   "cell_type": "code",
   "execution_count": 206,
   "metadata": {},
   "outputs": [
    {
     "name": "stdout",
     "output_type": "stream",
     "text": [
      "No lower outliers in the final tumor value of Ramicane\n",
      "No upper outliers in the final tumor value of Ramicane\n"
     ]
    }
   ],
   "source": [
    "#Ramicane\n",
    "\n",
    "#Ramicane Quartiles\n",
    "ramicane = ftv_ramicane_data[\"Tumor Volume (mm3)\"]\n",
    "quartiles = ramicane.quantile([.25, .5, .75])\n",
    "lowerq = quartiles[0.25]\n",
    "upperq = quartiles[0.75]\n",
    "\n",
    "#Ramicane IQR\n",
    "iqr = upperq -lowerq\n",
    "iqr\n",
    "\n",
    "#Establish lower and upper bounds\n",
    "lower_bound = lowerq - (1.5*iqr)\n",
    "upper_bound = upperq + (1.5*iqr)\n",
    "\n",
    "#Find Outliers\n",
    "lower_outliers_ramicane = ramicane.loc[ramicane < lower_bound]\n",
    "upper_outliers_ramicane = ramicane.loc[ramicane > upper_bound]\n",
    "\n",
    "if lower_outliers_ramicane.empty:\n",
    "    print(\"No lower outliers in the final tumor value of Ramicane\")\n",
    "else: \n",
    "    print(f\"The lower outliers for Ramicane are {list(lower_outliers_infubinol)}\")\n",
    "if upper_outliers_ramicane.empty:\n",
    "    print(\"No upper outliers in the final tumor value of Ramicane\")\n",
    "else: \n",
    "        print(f\"The upper outliers for Ramicane are {list(upper_outliers_infubinol)}\")"
   ]
  },
  {
   "cell_type": "code",
   "execution_count": 207,
   "metadata": {},
   "outputs": [
    {
     "name": "stdout",
     "output_type": "stream",
     "text": [
      "The lower outliers for Infubinol are [36.321345799999996]\n",
      "No upper outliers in the final tumor value of Infubinol\n"
     ]
    }
   ],
   "source": [
    "#Infubinol\n",
    "\n",
    "#Infubinol Quartiles\n",
    "infubinol = ftv_infubinol_data[\"Tumor Volume (mm3)\"]\n",
    "quartiles = infubinol.quantile([.25, .5, .75])\n",
    "lowerq = quartiles[0.25]\n",
    "upperq = quartiles[0.75]\n",
    "\n",
    "#Infubinol IQR\n",
    "iqr = upperq -lowerq\n",
    "iqr\n",
    "\n",
    "#Establish lower and upper bounds\n",
    "lower_bound = lowerq - (1.5*iqr)\n",
    "upper_bound = upperq + (1.5*iqr)\n",
    "\n",
    "#Find Outliers\n",
    "lower_outliers_infubinol = infubinol.loc[infubinol < lower_bound]\n",
    "upper_outliers_infubinol = infubinol.loc[infubinol > upper_bound]\n",
    "\n",
    "if lower_outliers_infubinol.empty:\n",
    "    print(\"No lower outliers in the final tumor value of Infubinol\")\n",
    "else: \n",
    "    print(f\"The lower outliers for Infubinol are {list(lower_outliers_infubinol)}\")\n",
    "if upper_outliers_infubinol.empty:\n",
    "    print(\"No upper outliers in the final tumor value of Infubinol\")\n",
    "else: \n",
    "    print(f\"The upper outliers for Infubinol are {list(upper_outliers_infubinol)}\")"
   ]
  },
  {
   "cell_type": "code",
   "execution_count": 208,
   "metadata": {},
   "outputs": [
    {
     "name": "stdout",
     "output_type": "stream",
     "text": [
      "No lower outliers in the final tumor value of Ceftamin\n",
      "No upper outliers in the final tumor value of Ceftamin\n"
     ]
    }
   ],
   "source": [
    "#Ceftamin\n",
    "#Ceftamini Quartiles\n",
    "ceftamin = ftv_ceftamin_data[\"Tumor Volume (mm3)\"]\n",
    "quartiles = ceftamin.quantile([.25, .5, .75])\n",
    "lowerq = quartiles[0.25]\n",
    "upperq = quartiles[0.75]\n",
    "\n",
    "#Infubinol IQR\n",
    "iqr = upperq -lowerq\n",
    "iqr\n",
    "\n",
    "#Establish lower and upper bounds\n",
    "lower_bound = lowerq - (1.5*iqr)\n",
    "upper_bound = upperq + (1.5*iqr)\n",
    "\n",
    "#Find Outliers\n",
    "lower_outliers_ceftamin = ceftamin.loc[ceftamin < lower_bound]\n",
    "upper_outliers_ceftamin = ceftamin.loc[ceftamin > upper_bound]\n",
    "\n",
    "if lower_outliers_ceftamin.empty:\n",
    "    print(\"No lower outliers in the final tumor value of Ceftamin\")\n",
    "else: \n",
    "    print(f\"The lower outliers for Ceftamin are {list(lower_outliers_ceftamin)}\")\n",
    "if upper_outliers_ceftamin.empty:\n",
    "    print(\"No upper outliers in the final tumor value of Ceftamin\")\n",
    "else: \n",
    "    print(f\"The upper outliers for Ceftamin are {list(upper_outliers_ceftamin)}\")"
   ]
  },
  {
   "cell_type": "code",
   "execution_count": 209,
   "metadata": {},
   "outputs": [
    {
     "data": {
      "text/plain": [
       "Text(0.5, 1.0, 'Ceftamin')"
      ]
     },
     "execution_count": 209,
     "metadata": {},
     "output_type": "execute_result"
    },
    {
     "data": {
      "image/png": "[encoded data removed]",
      "text/plain": [
       "<Figure size 432x288 with 4 Axes>"
      ]
     },
     "metadata": {
      "needs_background": "light"
     },
     "output_type": "display_data"
    }
   ],
   "source": [
    "#Using Matplotlib, generate a box and whisker plot of the final tumor volume for all four treatment regimens and highlight any potential outliers in the plot by changing their color and style.\n",
    "#Figure with four plots\n",
    "fig1, ax1 = plt.subplots(2,2)\n",
    "green_diamond = dict(markerfacecolor='g', marker='D')\n",
    "\n",
    "#Capomulin\n",
    "ax1[0][0].boxplot(capomulin,flierprops=green_diamond)\n",
    "ax1[0][0].set_title(\"Capomulin\")\n",
    "\n",
    "#Ramicane\n",
    "ax1[0][1].boxplot(ramicane, flierprops=green_diamond)\n",
    "ax1[0][1].set_title(\"Ramicane\")\n",
    "\n",
    "#Infubinol\n",
    "ax1[1][0].boxplot(infubinol, flierprops=green_diamond)\n",
    "ax1[1][0].set_title(\"Infobunol\")\n",
    "\n",
    "#Ceftamiin\n",
    "ax1[1][1].boxplot(ceftamin, flierprops=green_diamond)\n",
    "ax1[1][1].set_title(\"Ceftamin\")"
   ]
  },
  {
   "cell_type": "code",
   "execution_count": 210,
   "metadata": {},
   "outputs": [
    {
     "data": {
      "text/plain": [
       "([<matplotlib.axis.XTick at 0x1a29e5f3d0>,\n",
       "  <matplotlib.axis.XTick at 0x1a29e58350>,\n",
       "  <matplotlib.axis.XTick at 0x1a29e58cd0>,\n",
       "  <matplotlib.axis.XTick at 0x1a29e90e50>,\n",
       "  <matplotlib.axis.XTick at 0x1a29e98410>,\n",
       "  <matplotlib.axis.XTick at 0x1a29e98a10>,\n",
       "  <matplotlib.axis.XTick at 0x1a29e98e10>,\n",
       "  <matplotlib.axis.XTick at 0x1a29e9f710>,\n",
       "  <matplotlib.axis.XTick at 0x1a29e9fd50>,\n",
       "  <matplotlib.axis.XTick at 0x1a29e9fc50>],\n",
       " <a list of 10 Text xticklabel objects>)"
      ]
     },
     "execution_count": 210,
     "metadata": {},
     "output_type": "execute_result"
    },
    {
     "data": {
      "image/png": "[encoded data removed]",
      "text/plain": [
       "<Figure size 432x288 with 1 Axes>"
      ]
     },
     "metadata": {
      "needs_background": "light"
     },
     "output_type": "display_data"
    }
   ],
   "source": [
    "#Line plot of time point versus tumor volume for a single mouse treated with Capomulin.\n",
    "combined_capomulin = combined_data.loc[combined_data[\"Drug Regimen\"]==\"Capomulin\"]\n",
    "mouse_s185 = combined_capomulin.loc[combined_capomulin[\"Mouse ID\"]==\"s185\"]\n",
    "plt.plot(mouse_s185[\"Timepoint\"], mouse_s185[\"Tumor Volume (mm3)\"], marker=\"o\")\n",
    "plt.title(\"Tumor Volume for Mouse S185 over Time\")\n",
    "plt.ylabel(\"Tumor Volume (mm3)\")\n",
    "plt.xlabel(\"Time Point\")\n",
    "plt.xticks(np.arange(0,50,5))"
   ]
  },
  {
   "cell_type": "code",
   "execution_count": null,
   "metadata": {},
   "outputs": [],
   "source": [
    "#combined_data.loc[combined_data[\"Weight\"]]\n",
    "grouped_mouse = combined_data.groupby([\"Mouse ID\"])\n",
    "#grouped_mouse = pd.DataFrame(grouped_mouse)\n",
    "grouped_mouse\n",
    "#grouped_mouse_weight=pd.merge(grouped_mouse_capomulin_df, grouped_mouse, on =\"Mouse ID\")"
   ]
  },
  {
   "cell_type": "code",
   "execution_count": 309,
   "metadata": {},
   "outputs": [
    {
     "data": {
      "text/plain": [
       "Text(0.5, 0, 'Weight(g)')"
      ]
     },
     "execution_count": 309,
     "metadata": {},
     "output_type": "execute_result"
    },
    {
     "data": {
      "image/png": "[encoded data removed]",
      "text/plain": [
       "<Figure size 432x288 with 1 Axes>"
      ]
     },
     "metadata": {
      "needs_background": "light"
     },
     "output_type": "display_data"
    }
   ],
   "source": [
    "#Scatter plot of mouse weight versus average tumor volume for the Capomulin treatment regimen\n",
    "\n",
    "#Average tumor volume for Capomulin treatment regime per mouse ID\n",
    "grouped_mouse_capomulin = combined_capomulin.groupby([\"Mouse ID\"])[\"Tumor Volume (mm3)\"].mean()\n",
    "grouped_mouse_capomulin_df = pd.DataFrame(grouped_mouse_capomulin)\n",
    "\n",
    "#Weight per mouse on the Capomulin treatment regimen.\n",
    "grouped_mouse = combined_capomulin.groupby([\"Mouse ID\"])[\"Weight (g)\"].unique()\n",
    "grouped_mouse_df = pd.DataFrame(grouped_mouse)\n",
    "\n",
    "#Cast as integer\n",
    "grouped_mouse_df = grouped_mouse_df.astype({\"Weight (g)\":\"int32\"})\n",
    "grouped_mouse_df\n",
    "\n",
    "#Merge to get one dataframe for weight and average tumor volume\n",
    "grouped_weight_volume = pd.merge(grouped_mouse_df, grouped_mouse_capomulin_df, on=\"Mouse ID\")\n",
    "grouped_weight_volume\n",
    "\n",
    "#Scatter Plot\n",
    "x_values = grouped_weight_volume[\"Weight (g)\"]\n",
    "y_values = grouped_weight_volume[\"Tumor Volume (mm3)\"]\n",
    "plt.scatter(grouped_weight_volume[\"Weight (g)\"],grouped_weight_volume[\"Tumor Volume (mm3)\"])\n",
    "plt.title(\"Mouse Weight to Average Tumor Volume for Capomulin\")\n",
    "plt.ylabel(\"Average Tumor Volume (mm3)\")\n",
    "plt.xlabel(\"Weight(g)\")"
   ]
  },
  {
   "cell_type": "code",
   "execution_count": 310,
   "metadata": {},
   "outputs": [
    {
     "data": {
      "text/plain": [
       "'The correlation coefficient between the mouse weight and average tumor volume for the Capomulin treat is 0.8419363424694717'"
      ]
     },
     "execution_count": 310,
     "metadata": {},
     "output_type": "execute_result"
    }
   ],
   "source": [
    "#Correlation coefficient between mouse weight and average tumor volume for the Capomulin treatment\n",
    "correlation = st.pearsonr(x_values,y_values)\n",
    "f\"The correlation coefficient between the mouse weight and average tumor volume for the Capomulin treat is {correlation[0]}\"\n"
   ]
  },
  {
   "cell_type": "code",
   "execution_count": 344,
   "metadata": {},
   "outputs": [
    {
     "data": {
      "text/plain": [
       "'y=0.95x+21.55'"
      ]
     },
     "execution_count": 344,
     "metadata": {},
     "output_type": "execute_result"
    }
   ],
   "source": [
    "#Linear regress model between mouse weight and average tumor volume for the Capomulin treatment\n",
    "(slope, intercept, value, pvalue, std_err) = st.linregress(x_values, y_values)\n",
    "regress_values = x_values*slope + intercept\n",
    "line_eq = \"y=\" + str(round(slope,2))+\"x+\"+str(round(intercept,2))\n",
    "line_eq"
   ]
  },
  {
   "cell_type": "code",
   "execution_count": 350,
   "metadata": {},
   "outputs": [
    {
     "data": {
      "text/plain": [
       "Text(22, 36, 'y=0.95x+21.55')"
      ]
     },
     "execution_count": 350,
     "metadata": {},
     "output_type": "execute_result"
    },
    {
     "data": {
      "image/png": "[encoded data removed]",
      "text/plain": [
       "<Figure size 432x288 with 1 Axes>"
      ]
     },
     "metadata": {
      "needs_background": "light"
     },
     "output_type": "display_data"
    }
   ],
   "source": [
    "#Plot the linear regression model on top of the previous scatter plot\n",
    "plt.scatter(x_values,y_values)\n",
    "plt.plot(x_values, regress_values, \"r\")\n",
    "plt.title(\"Mouse Weight to Average Tumor Volume for Capomulin\")\n",
    "plt.ylabel(\"Average Tumor Volume (mm3)\")\n",
    "plt.xlabel(\"Weight(g)\")\n",
    "plt.annotate(line_eq, (22,36))"
   ]
  },
  {
   "cell_type": "code",
   "execution_count": null,
   "metadata": {},
   "outputs": [],
   "source": []
  }
 ],
 "metadata": {
  "kernelspec": {
   "display_name": "Python 3",
   "language": "python",
   "name": "python3"
  },
  "language_info": {
   "codemirror_mode": {
    "name": "ipython",
    "version": 3
   },
   "file_extension": ".py",
   "mimetype": "text/x-python",
   "name": "python",
   "nbconvert_exporter": "python",
   "pygments_lexer": "ipython3",
   "version": "3.7.6"
  }
 },
 "nbformat": 4,
 "nbformat_minor": 4
}
